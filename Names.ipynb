{
 "cells": [
  {
   "cell_type": "code",
   "execution_count": 2,
   "id": "86ec6b0b",
   "metadata": {},
   "outputs": [],
   "source": [
    "# Import bibliothèque de manipulation de dataframe\n",
    "import pandas as pd\n",
    "\n",
    "# Import des bibliothèques de viz\n",
    "import matplotlib.pyplot as plt\n",
    "import seaborn as sns\n",
    "\n",
    "# Import split data\n",
    "from sklearn.model_selection import train_test_split\n",
    "\n",
    "# Import modèles de ML Supervisé Régression\n",
    "from sklearn.linear_model import LinearRegression\n",
    "\n",
    "# Import modèles de ML Supervisé Classification\n",
    "from sklearn.neighbors import KNeighborsClassifier\n",
    "from sklearn.linear_model import LogisticRegression\n",
    "\n",
    "# Import modèle de ML NON Supervisé\n",
    "from sklearn.neighbors import NearestNeighbors\n",
    "\n",
    "# Import des métriques\n",
    "from sklearn.metrics import mean_squared_error, r2_score, accuracy_score, classification_report, confusion_matrix, ConfusionMatrixDisplay\n",
    "\n",
    "# Import outil standardisation de la donnée\n",
    "from sklearn.preprocessing import StandardScaler\n",
    "\n",
    "# Import pipeline\n",
    "from sklearn.pipeline import Pipeline\n",
    "\n",
    "# Gestion des warnings\n",
    "import warnings"
   ]
  },
  {
   "cell_type": "code",
   "execution_count": 28,
   "id": "946df63c",
   "metadata": {},
   "outputs": [],
   "source": [
    "file1 = '/Users/kdahm/Desktop/Formation_DATA_Analyst/Projet_2/ImDB/Regroupement/name.basics.tsv'\n",
    "df_name = pd.read_csv(file1, sep = '\\t', low_memory=False)"
   ]
  },
  {
   "cell_type": "code",
   "execution_count": 4,
   "id": "a30b8c53",
   "metadata": {},
   "outputs": [
    {
     "name": "stdout",
     "output_type": "stream",
     "text": [
      "<class 'pandas.core.frame.DataFrame'>\n",
      "RangeIndex: 14399151 entries, 0 to 14399150\n",
      "Data columns (total 6 columns):\n",
      " #   Column             Dtype \n",
      "---  ------             ----- \n",
      " 0   nconst             object\n",
      " 1   primaryName        object\n",
      " 2   birthYear          object\n",
      " 3   deathYear          object\n",
      " 4   primaryProfession  object\n",
      " 5   knownForTitles     object\n",
      "dtypes: object(6)\n",
      "memory usage: 659.1+ MB\n"
     ]
    }
   ],
   "source": [
    "df_name.info()"
   ]
  },
  {
   "cell_type": "code",
   "execution_count": 121,
   "id": "cb4034fb",
   "metadata": {},
   "outputs": [],
   "source": [
    "df_name = df_name.drop(['birthYear', 'deathYear'],axis = 1)"
   ]
  },
  {
   "cell_type": "code",
   "execution_count": null,
   "id": "7ddcecaa",
   "metadata": {},
   "outputs": [],
   "source": [
    "df_name['primaryProfession'] = df_name['primaryProfession'].astype(str).apply(lambda x: x.split(','))\n",
    "df_name['knownForTitles'] = df_name['knownForTitles'].astype(str).apply(lambda x: x.split(','))"
   ]
  },
  {
   "cell_type": "code",
   "execution_count": null,
   "id": "d7e8aa42",
   "metadata": {},
   "outputs": [],
   "source": [
    "df_name['Profession1'] = df_name['primaryProfession'].apply(lambda x: x[0] if isinstance(x, list) and len(x) > 0 else None)\n",
    "df_name['Profession2'] = df_name['primaryProfession'].apply(lambda x: x[1] if isinstance(x, list) and len(x) > 1 else None)\n",
    "df_name['Profession3'] = df_name['primaryProfession'].apply(lambda x: x[2] if isinstance(x, list) and len(x) > 2 else None)"
   ]
  },
  {
   "cell_type": "code",
   "execution_count": 119,
   "id": "0c16f349",
   "metadata": {},
   "outputs": [],
   "source": [
    "df_name['movie1'] = df_name['knownForTitles'].apply(lambda x: x[0] if isinstance(x, list) and len(x) > 0 else None)\n",
    "df_name['movie2'] = df_name['knownForTitles'].apply(lambda x: x[1] if isinstance(x, list) and len(x) > 1 else None)\n",
    "df_name['movie3'] = df_name['knownForTitles'].apply(lambda x: x[2] if isinstance(x, list) and len(x) > 2 else None)\n",
    "df_name['movie4'] = df_name['knownForTitles'].apply(lambda x: x[3] if isinstance(x, list) and len(x) > 3 else None)"
   ]
  },
  {
   "cell_type": "code",
   "execution_count": 123,
   "id": "618330ae",
   "metadata": {},
   "outputs": [],
   "source": [
    "df_name = df_name.drop(['primaryProfession', 'knownForTitles'],axis = 1)"
   ]
  },
  {
   "cell_type": "code",
   "execution_count": 124,
   "id": "4d025a83",
   "metadata": {},
   "outputs": [
    {
     "data": {
      "text/html": [
       "<div>\n",
       "<style scoped>\n",
       "    .dataframe tbody tr th:only-of-type {\n",
       "        vertical-align: middle;\n",
       "    }\n",
       "\n",
       "    .dataframe tbody tr th {\n",
       "        vertical-align: top;\n",
       "    }\n",
       "\n",
       "    .dataframe thead th {\n",
       "        text-align: right;\n",
       "    }\n",
       "</style>\n",
       "<table border=\"1\" class=\"dataframe\">\n",
       "  <thead>\n",
       "    <tr style=\"text-align: right;\">\n",
       "      <th></th>\n",
       "      <th>nconst</th>\n",
       "      <th>primaryName</th>\n",
       "      <th>Profession1</th>\n",
       "      <th>Profession2</th>\n",
       "      <th>Profession3</th>\n",
       "      <th>movie1</th>\n",
       "      <th>movie2</th>\n",
       "      <th>movie3</th>\n",
       "      <th>movie4</th>\n",
       "    </tr>\n",
       "  </thead>\n",
       "  <tbody>\n",
       "    <tr>\n",
       "      <th>0</th>\n",
       "      <td>nm0000001</td>\n",
       "      <td>Fred Astaire</td>\n",
       "      <td>actor</td>\n",
       "      <td>miscellaneous</td>\n",
       "      <td>producer</td>\n",
       "      <td>tt0072308</td>\n",
       "      <td>tt0050419</td>\n",
       "      <td>tt0027125</td>\n",
       "      <td>tt0031983</td>\n",
       "    </tr>\n",
       "    <tr>\n",
       "      <th>1</th>\n",
       "      <td>nm0000002</td>\n",
       "      <td>Lauren Bacall</td>\n",
       "      <td>actress</td>\n",
       "      <td>soundtrack</td>\n",
       "      <td>archive_footage</td>\n",
       "      <td>tt0037382</td>\n",
       "      <td>tt0075213</td>\n",
       "      <td>tt0117057</td>\n",
       "      <td>tt0038355</td>\n",
       "    </tr>\n",
       "    <tr>\n",
       "      <th>2</th>\n",
       "      <td>nm0000003</td>\n",
       "      <td>Brigitte Bardot</td>\n",
       "      <td>actress</td>\n",
       "      <td>music_department</td>\n",
       "      <td>producer</td>\n",
       "      <td>tt0057345</td>\n",
       "      <td>tt0049189</td>\n",
       "      <td>tt0056404</td>\n",
       "      <td>tt0054452</td>\n",
       "    </tr>\n",
       "    <tr>\n",
       "      <th>3</th>\n",
       "      <td>nm0000004</td>\n",
       "      <td>John Belushi</td>\n",
       "      <td>actor</td>\n",
       "      <td>writer</td>\n",
       "      <td>music_department</td>\n",
       "      <td>tt0072562</td>\n",
       "      <td>tt0077975</td>\n",
       "      <td>tt0080455</td>\n",
       "      <td>tt0078723</td>\n",
       "    </tr>\n",
       "    <tr>\n",
       "      <th>4</th>\n",
       "      <td>nm0000005</td>\n",
       "      <td>Ingmar Bergman</td>\n",
       "      <td>writer</td>\n",
       "      <td>director</td>\n",
       "      <td>actor</td>\n",
       "      <td>tt0050986</td>\n",
       "      <td>tt0069467</td>\n",
       "      <td>tt0050976</td>\n",
       "      <td>tt0083922</td>\n",
       "    </tr>\n",
       "  </tbody>\n",
       "</table>\n",
       "</div>"
      ],
      "text/plain": [
       "      nconst      primaryName Profession1       Profession2       Profession3  \\\n",
       "0  nm0000001     Fred Astaire       actor     miscellaneous          producer   \n",
       "1  nm0000002    Lauren Bacall     actress        soundtrack   archive_footage   \n",
       "2  nm0000003  Brigitte Bardot     actress  music_department          producer   \n",
       "3  nm0000004     John Belushi       actor            writer  music_department   \n",
       "4  nm0000005   Ingmar Bergman      writer          director             actor   \n",
       "\n",
       "      movie1     movie2     movie3     movie4  \n",
       "0  tt0072308  tt0050419  tt0027125  tt0031983  \n",
       "1  tt0037382  tt0075213  tt0117057  tt0038355  \n",
       "2  tt0057345  tt0049189  tt0056404  tt0054452  \n",
       "3  tt0072562  tt0077975  tt0080455  tt0078723  \n",
       "4  tt0050986  tt0069467  tt0050976  tt0083922  "
      ]
     },
     "execution_count": 124,
     "metadata": {},
     "output_type": "execute_result"
    }
   ],
   "source": [
    "df_name.head()"
   ]
  }
 ],
 "metadata": {
  "kernelspec": {
   "display_name": "base",
   "language": "python",
   "name": "python3"
  },
  "language_info": {
   "codemirror_mode": {
    "name": "ipython",
    "version": 3
   },
   "file_extension": ".py",
   "mimetype": "text/x-python",
   "name": "python",
   "nbconvert_exporter": "python",
   "pygments_lexer": "ipython3",
   "version": "3.12.7"
  }
 },
 "nbformat": 4,
 "nbformat_minor": 5
}
