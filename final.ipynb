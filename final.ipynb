{
 "cells": [
  {
   "cell_type": "code",
   "execution_count": 9,
   "id": "5403cea9",
   "metadata": {},
   "outputs": [],
   "source": [
    "import pandas as pd\n",
    "# Import bibliothèque de manipulation de dataframe\n",
    "import pandas as pd\n",
    "\n",
    "# Import des bibliothèques de viz\n",
    "import matplotlib.pyplot as plt\n",
    "import seaborn as sns\n",
    "\n",
    "# Import split data\n",
    "from sklearn.model_selection import train_test_split\n",
    "\n",
    "\n",
    "# Import modèles de ML Supervisé Régression\n",
    "from sklearn.linear_model import LinearRegression\n",
    "\n",
    "# Import modèles de ML Supervisé Classification\n",
    "from sklearn.neighbors import KNeighborsClassifier\n",
    "from sklearn.linear_model import LogisticRegression\n",
    "\n",
    "# Import modèle de ML NON Supervisé\n",
    "from sklearn.neighbors import NearestNeighbors\n",
    "\n",
    "# Import des métriques\n",
    "from sklearn.metrics import mean_squared_error, r2_score, accuracy_score, classification_report, confusion_matrix, ConfusionMatrixDisplay\n",
    "\n",
    "# Import outil standardisation de la donnée\n",
    "from sklearn.preprocessing import StandardScaler\n",
    "\n",
    "# Import pipeline\n",
    "from sklearn.pipeline import Pipeline\n",
    "\n",
    "# Gestion des warnings\n",
    "import warnings"
   ]
  },
  {
   "cell_type": "code",
   "execution_count": null,
   "id": "e38be480",
   "metadata": {},
   "outputs": [],
   "source": [
    "tmdb_df = \"/Users/Nathan Vallet/Desktop/PROJET 2/vs_code_projet_2/tmdb_full.csv\"\n",
    "base_df = pd.read_csv(tmdb_df, sep = ',', low_memory=False)\n",
    "\n",
    "tmdb_pre_final = base_df.drop(['adult','budget','homepage','id','original_language'\n",
    "                               ,'spoken_languages','video','production_companies_country',\n",
    "                               'production_countries','popularity', 'revenue','status', 'vote_average'\n",
    "                               ,'vote_count','original_title','title','tagline'], axis = 1)\n",
    "tmdb_pre_final.head(3)"
   ]
  },
  {
   "cell_type": "code",
   "execution_count": null,
   "id": "a362c93c",
   "metadata": {},
   "outputs": [],
   "source": [
    "titleBasics = \"/Users/Nathan Vallet/Desktop/PROJET 2/vs_code_projet_2/titleBasics_New.csv\"\n",
    "df_titleBasics = pd.read_csv(titleBasics, sep='\\t', low_memory=False)\n",
    "df_titleBasics"
   ]
  },
  {
   "cell_type": "code",
   "execution_count": null,
   "id": "3368dec0",
   "metadata": {},
   "outputs": [],
   "source": [
    "df_final_final = tmdb_pre_final.merge(df_titleBasics, left_on = \"imdb_id\", right_on = \"tconst\", how = \"inner\")\n",
    "df_final_final"
   ]
  }
 ],
 "metadata": {
  "kernelspec": {
   "display_name": "base",
   "language": "python",
   "name": "python3"
  },
  "language_info": {
   "codemirror_mode": {
    "name": "ipython",
    "version": 3
   },
   "file_extension": ".py",
   "mimetype": "text/x-python",
   "name": "python",
   "nbconvert_exporter": "python",
   "pygments_lexer": "ipython3",
   "version": "3.12.7"
  }
 },
 "nbformat": 4,
 "nbformat_minor": 5
}
